{
 "cells": [
  {
   "cell_type": "code",
   "execution_count": 1,
   "metadata": {
    "execution": {
     "iopub.execute_input": "2022-01-31T17:04:42.360613Z",
     "iopub.status.busy": "2022-01-31T17:04:42.360271Z",
     "iopub.status.idle": "2022-01-31T17:04:48.667365Z",
     "shell.execute_reply": "2022-01-31T17:04:48.666591Z",
     "shell.execute_reply.started": "2022-01-31T17:04:42.360518Z"
    }
   },
   "outputs": [],
   "source": [
    "import os\n",
    "import matplotlib.pyplot as plt\n",
    "import tensorflow as tf\n",
    "from PIL import Image\n",
    "from tensorflow.keras.preprocessing.image import ImageDataGenerator \n",
    "from tensorflow.keras.utils import to_categorical, plot_model\n",
    "from tensorflow.keras import models, layers, regularizers\n",
    "from sklearn.metrics import classification_report, confusion_matrix, accuracy_score,ConfusionMatrixDisplay\n",
    "import cv2\n",
    "import numpy as np\n",
    "from sklearn.metrics import accuracy_score, precision_score, recall_score\n",
    "from collections import Counter"
   ]
  },
  {
   "cell_type": "code",
   "execution_count": 2,
   "metadata": {
    "execution": {
     "iopub.execute_input": "2022-01-31T17:04:48.669279Z",
     "iopub.status.busy": "2022-01-31T17:04:48.669023Z",
     "iopub.status.idle": "2022-01-31T17:04:48.677329Z",
     "shell.execute_reply": "2022-01-31T17:04:48.675497Z",
     "shell.execute_reply.started": "2022-01-31T17:04:48.669244Z"
    }
   },
   "outputs": [],
   "source": [
    "train_path = '../input/chest-xray-pneumonia/chest_xray/train'\n",
    "test_path = '../input/chest-xray-pneumonia/chest_xray/test'\n",
    "val_path = '../input/chest-xray-pneumonia/chest_xray/val'"
   ]
  },
  {
   "cell_type": "code",
   "execution_count": 3,
   "metadata": {
    "execution": {
     "iopub.execute_input": "2022-01-31T17:04:48.680490Z",
     "iopub.status.busy": "2022-01-31T17:04:48.680226Z",
     "iopub.status.idle": "2022-01-31T17:04:48.691274Z",
     "shell.execute_reply": "2022-01-31T17:04:48.690355Z",
     "shell.execute_reply.started": "2022-01-31T17:04:48.680455Z"
    }
   },
   "outputs": [],
   "source": [
    "def plot_images(img_dir, top=10):\n",
    "    all_img_dirs = os.listdir(img_dir)\n",
    "    img_files = [os.path.join(img_dir, file) for file in all_img_dirs][:5]\n",
    "    plt.figure(figsize=(10, 10))\n",
    "    plt.suptitle(img_dir.split(\"/\")[-1])\n",
    "    for idx, img_path in enumerate(img_files):\n",
    "        plt.subplot(5, 5, idx + 1)\n",
    "        img = plt.imread(img_path)\n",
    "        plt.tight_layout()\n",
    "        plt.axis('off')\n",
    "        plt.imshow(img, cmap='gray')"
   ]
  },
  {
   "cell_type": "code",
   "execution_count": 4,
   "metadata": {
    "execution": {
     "iopub.execute_input": "2022-01-31T17:04:48.693734Z",
     "iopub.status.busy": "2022-01-31T17:04:48.693192Z",
     "iopub.status.idle": "2022-01-31T17:04:50.272276Z",
     "shell.execute_reply": "2022-01-31T17:04:50.271520Z",
     "shell.execute_reply.started": "2022-01-31T17:04:48.693695Z"
    }
   },
   "outputs": [],
   "source": [
    "plot_images(train_path + '/NORMAL')"
   ]
  },
  {
   "cell_type": "code",
   "execution_count": 5,
   "metadata": {
    "execution": {
     "iopub.execute_input": "2022-01-31T17:04:54.128462Z",
     "iopub.status.busy": "2022-01-31T17:04:54.128205Z",
     "iopub.status.idle": "2022-01-31T17:04:55.528334Z",
     "shell.execute_reply": "2022-01-31T17:04:55.527657Z",
     "shell.execute_reply.started": "2022-01-31T17:04:54.128433Z"
    }
   },
   "outputs": [],
   "source": [
    "plot_images(train_path + '/PNEUMONIA')"
   ]
  },
  {
   "cell_type": "code",
   "execution_count": 6,
   "metadata": {
    "execution": {
     "iopub.execute_input": "2022-01-31T17:04:55.530196Z",
     "iopub.status.busy": "2022-01-31T17:04:55.529822Z",
     "iopub.status.idle": "2022-01-31T17:04:55.537297Z",
     "shell.execute_reply": "2022-01-31T17:04:55.536475Z",
     "shell.execute_reply.started": "2022-01-31T17:04:55.530160Z"
    }
   },
   "outputs": [],
   "source": [
    "def plot_bar_chart_diagram(path_data):\n",
    "    dic = {}\n",
    "    for file in os.listdir(path_data):\n",
    "        if file == \".DS_Store\":\n",
    "            continue\n",
    "        dem = 0\n",
    "        for x in os.listdir(path_data + \"/\" + file):\n",
    "            dem += 1\n",
    "        dic[file] = dem\n",
    "    print(dic)\n",
    "    barlist = plt.bar(list(range(len(dic))),\n",
    "                      list(dic.values()),\n",
    "                      tick_label=list(dic.keys()))\n",
    "    plt.show()"
   ]
  },
  {
   "cell_type": "code",
   "execution_count": 7,
   "metadata": {
    "execution": {
     "iopub.execute_input": "2022-01-31T17:04:55.538817Z",
     "iopub.status.busy": "2022-01-31T17:04:55.538530Z",
     "iopub.status.idle": "2022-01-31T17:04:55.681060Z",
     "shell.execute_reply": "2022-01-31T17:04:55.680224Z",
     "shell.execute_reply.started": "2022-01-31T17:04:55.538781Z"
    }
   },
   "outputs": [],
   "source": [
    "plot_bar_chart_diagram(train_path)"
   ]
  },
  {
   "cell_type": "code",
   "execution_count": 8,
   "metadata": {
    "execution": {
     "iopub.execute_input": "2022-01-31T17:04:55.683275Z",
     "iopub.status.busy": "2022-01-31T17:04:55.683009Z",
     "iopub.status.idle": "2022-01-31T17:04:55.967856Z",
     "shell.execute_reply": "2022-01-31T17:04:55.966858Z",
     "shell.execute_reply.started": "2022-01-31T17:04:55.683239Z"
    }
   },
   "outputs": [],
   "source": [
    "plot_bar_chart_diagram(test_path)"
   ]
  },
  {
   "cell_type": "code",
   "execution_count": 9,
   "metadata": {
    "execution": {
     "iopub.execute_input": "2022-01-31T17:04:55.972980Z",
     "iopub.status.busy": "2022-01-31T17:04:55.972615Z",
     "iopub.status.idle": "2022-01-31T17:04:59.145653Z",
     "shell.execute_reply": "2022-01-31T17:04:59.144943Z",
     "shell.execute_reply.started": "2022-01-31T17:04:55.972937Z"
    }
   },
   "outputs": [],
   "source": [
    "batch_size = 32\n",
    "target_size = (116,82)\n",
    "\n",
    "train_datagen = ImageDataGenerator(rescale=1./255.0,\n",
    "                                   validation_split=0.3,\n",
    "                                   zoom_range=0.8,\n",
    "                                  horizontal_flip=True,\n",
    "                \n",
    "                                  )\n",
    "test_datagen=ImageDataGenerator(rescale = 1./255.0)\n",
    "\n",
    "train_generator = train_datagen.flow_from_directory(\n",
    "        train_path,\n",
    "        target_size=target_size,\n",
    "        batch_size=batch_size,\n",
    "        subset=\"training\",\n",
    "        class_mode='binary')\n",
    "\n",
    "val_generator = train_datagen.flow_from_directory(\n",
    "        train_path,\n",
    "        target_size=target_size,\n",
    "        batch_size=batch_size,\n",
    "        subset=\"validation\",\n",
    "        class_mode='binary')\n",
    "test_generator=test_datagen.flow_from_directory(\n",
    "        test_path,\n",
    "        target_size=target_size,\n",
    "        class_mode='binary',\n",
    "        batch_size=batch_size,\n",
    "        shuffle=False)"
   ]
  },
  {
   "cell_type": "code",
   "execution_count": 10,
   "metadata": {
    "execution": {
     "iopub.execute_input": "2022-01-31T17:04:59.148484Z",
     "iopub.status.busy": "2022-01-31T17:04:59.148291Z",
     "iopub.status.idle": "2022-01-31T17:04:59.153917Z",
     "shell.execute_reply": "2022-01-31T17:04:59.152385Z",
     "shell.execute_reply.started": "2022-01-31T17:04:59.148461Z"
    }
   },
   "outputs": [],
   "source": [
    "input_shape = (116,82,3)"
   ]
  },
  {
   "cell_type": "code",
   "execution_count": 11,
   "metadata": {
    "execution": {
     "iopub.execute_input": "2022-01-31T17:04:59.155761Z",
     "iopub.status.busy": "2022-01-31T17:04:59.155467Z",
     "iopub.status.idle": "2022-01-31T17:05:01.466553Z",
     "shell.execute_reply": "2022-01-31T17:05:01.465848Z",
     "shell.execute_reply.started": "2022-01-31T17:04:59.155728Z"
    }
   },
   "outputs": [],
   "source": [
    "model = models.Sequential()\n",
    "\n",
    "model.add(layers.Conv2D(64, kernel_size=(3, 3), activation='relu', input_shape=input_shape))\n",
    "model.add(layers.Conv2D(64, kernel_size=(3, 3), activation='relu', padding='same'))\n",
    "model.add(layers.MaxPooling2D(pool_size=(2, 2), strides=(2, 2)))\n",
    "model.add(layers.Dropout(0.25))\n",
    "\n",
    "model.add(layers.Conv2D(128, kernel_size=(3, 3), activation='relu', padding='same'))\n",
    "model.add(layers.Conv2D(128, kernel_size=(3, 3), activation='relu', padding='same'))\n",
    "model.add(layers.MaxPooling2D(pool_size=(2, 2), strides=(2, 2)))\n",
    "model.add(layers.Dropout(0.25))\n",
    "\n",
    "model.add(layers.Conv2D(256, kernel_size=(3, 3), activation='relu', padding='same'))\n",
    "model.add(layers.Conv2D(256, kernel_size=(3, 3), activation='relu', padding='same'))\n",
    "model.add(layers.MaxPooling2D(pool_size=(2, 2), strides=(2, 2)))\n",
    "model.add(layers.Dropout(0.25))\n",
    "\n",
    "model.add(layers.Conv2D(512, kernel_size=(3, 3), activation='relu', padding='same'))\n",
    "model.add(layers.Conv2D(512, kernel_size=(3, 3), activation='relu', padding='same'))\n",
    "model.add(layers.MaxPooling2D(pool_size=(2, 2), strides=(2, 2)))\n",
    "model.add(layers.Dropout(0.25))\n",
    "\n",
    "model.add(layers.Flatten())\n",
    "\n",
    "model.add(layers.Dense(1024, activation='relu'))\n",
    "model.add(layers.Dropout(0.5))\n",
    "model.add(layers.Dense(1, activation='sigmoid'))\n",
    "\n",
    "model.summary()"
   ]
  },
  {
   "cell_type": "code",
   "execution_count": 12,
   "metadata": {
    "execution": {
     "iopub.execute_input": "2022-01-31T17:05:01.468050Z",
     "iopub.status.busy": "2022-01-31T17:05:01.467817Z",
     "iopub.status.idle": "2022-01-31T17:05:01.483879Z",
     "shell.execute_reply": "2022-01-31T17:05:01.483168Z",
     "shell.execute_reply.started": "2022-01-31T17:05:01.468019Z"
    }
   },
   "outputs": [],
   "source": [
    "model.compile(loss='binary_crossentropy', optimizer=tf.keras.optimizers.Adam( lr=0.0001), metrics=['accuracy'],) "
   ]
  },
  {
   "cell_type": "code",
   "execution_count": 14,
   "metadata": {
    "execution": {
     "iopub.execute_input": "2022-01-31T17:23:58.828385Z",
     "iopub.status.busy": "2022-01-31T17:23:58.827843Z",
     "iopub.status.idle": "2022-01-31T17:59:13.198459Z",
     "shell.execute_reply": "2022-01-31T17:59:13.197729Z",
     "shell.execute_reply.started": "2022-01-31T17:23:58.828339Z"
    }
   },
   "outputs": [],
   "source": [
    "earlystop =tf.keras.callbacks.EarlyStopping(monitor='val_loss', \n",
    "                          min_delta=0, \n",
    "                          patience=15, \n",
    "                          verbose=1, \n",
    "                          restore_best_weights=True)\n",
    "                        \n",
    "reduce_lr = tf.keras.callbacks.ReduceLROnPlateau(monitor='val_loss', \n",
    "                              factor=0.5, \n",
    "                              patience=6, \n",
    "                              verbose=1, \n",
    "                              min_delta=0.0001)\n",
    "\n",
    "weight_for_0 = (1.0 / 1341)*(5216/2.0)\n",
    "weight_for_1 = (1.0 / 3875)*(5216/2.0)\n",
    "class_weight = {0: weight_for_0, 1: weight_for_1}\n",
    "callback=[earlystop,reduce_lr]\n",
    "history = model.fit(train_generator, epochs=30 ,verbose=1, validation_data=val_generator,callbacks=callback,class_weight=class_weight,)"
   ]
  },
  {
   "cell_type": "code",
   "execution_count": 15,
   "metadata": {
    "execution": {
     "iopub.execute_input": "2022-01-31T17:59:13.200916Z",
     "iopub.status.busy": "2022-01-31T17:59:13.200206Z",
     "iopub.status.idle": "2022-01-31T17:59:31.069484Z",
     "shell.execute_reply": "2022-01-31T17:59:31.068739Z",
     "shell.execute_reply.started": "2022-01-31T17:59:13.200878Z"
    }
   },
   "outputs": [],
   "source": [
    "score = model.evaluate(val_generator) \n",
    "print('Test loss: ', score[0])\n",
    "print('Test accuracy: ', score[1])"
   ]
  },
  {
   "cell_type": "code",
   "execution_count": 16,
   "metadata": {
    "execution": {
     "iopub.execute_input": "2022-01-31T17:59:31.070633Z",
     "iopub.status.busy": "2022-01-31T17:59:31.070448Z",
     "iopub.status.idle": "2022-01-31T17:59:41.697152Z",
     "shell.execute_reply": "2022-01-31T17:59:41.696052Z",
     "shell.execute_reply.started": "2022-01-31T17:59:31.070610Z"
    }
   },
   "outputs": [],
   "source": [
    "score = model.evaluate(test_generator) \n",
    "print('Test loss: ', score[0])\n",
    "print('Test accuracy: ', score[1])"
   ]
  },
  {
   "cell_type": "code",
   "execution_count": 17,
   "metadata": {
    "execution": {
     "iopub.execute_input": "2022-01-31T17:59:41.699121Z",
     "iopub.status.busy": "2022-01-31T17:59:41.698856Z",
     "iopub.status.idle": "2022-01-31T17:59:42.079116Z",
     "shell.execute_reply": "2022-01-31T17:59:42.078426Z",
     "shell.execute_reply.started": "2022-01-31T17:59:41.699084Z"
    }
   },
   "outputs": [],
   "source": [
    "keys=history.history.keys()\n",
    "\n",
    "def show_train_history(hisData,train,test): \n",
    "    plt.plot(hisData.history[train])\n",
    "    plt.plot(hisData.history[test])\n",
    "    plt.title('Training History')\n",
    "    plt.ylabel(train)\n",
    "    plt.xlabel('Epoch')\n",
    "    plt.legend(['train', 'test'], loc='upper left')\n",
    "    plt.show()\n",
    "\n",
    "show_train_history(history, 'loss', 'val_loss')\n",
    "show_train_history(history, 'accuracy', 'val_accuracy')"
   ]
  },
  {
   "cell_type": "code",
   "execution_count": 18,
   "metadata": {
    "execution": {
     "iopub.execute_input": "2022-01-31T17:59:42.080755Z",
     "iopub.status.busy": "2022-01-31T17:59:42.080498Z",
     "iopub.status.idle": "2022-01-31T17:59:48.147181Z",
     "shell.execute_reply": "2022-01-31T17:59:48.146513Z",
     "shell.execute_reply.started": "2022-01-31T17:59:42.080719Z"
    }
   },
   "outputs": [],
   "source": [
    "y_pred = np.round(model.predict(test_generator))\n",
    "y_true = test_generator.classes\n",
    "y_labels = list(test_generator.class_indices.keys())\n",
    "display(ConfusionMatrixDisplay(confusion_matrix(y_true, y_pred), display_labels=['Normal', 'Pneumonia']).plot())"
   ]
  },
  {
   "cell_type": "code",
   "execution_count": null,
   "metadata": {},
   "outputs": [],
   "source": []
  },
  {
   "cell_type": "code",
   "execution_count": null,
   "metadata": {},
   "outputs": [],
   "source": []
  },
  {
   "cell_type": "code",
   "execution_count": null,
   "metadata": {},
   "outputs": [],
   "source": []
  },
  {
   "cell_type": "code",
   "execution_count": null,
   "metadata": {},
   "outputs": [],
   "source": []
  }
 ],
 "metadata": {
  "kernelspec": {
   "display_name": "Python 3",
   "language": "python",
   "name": "python3"
  },
  "language_info": {
   "codemirror_mode": {
    "name": "ipython",
    "version": 3
   },
   "file_extension": ".py",
   "mimetype": "text/x-python",
   "name": "python",
   "nbconvert_exporter": "python",
   "pygments_lexer": "ipython3",
   "version": "3.6.8"
  },
  "nbTranslate": {
   "displayLangs": [
    "*"
   ],
   "hotkey": "alt-t",
   "langInMainMenu": true,
   "sourceLang": "en",
   "targetLang": "fr",
   "useGoogleTranslate": true
  },
  "toc": {
   "base_numbering": 1,
   "nav_menu": {},
   "number_sections": true,
   "sideBar": true,
   "skip_h1_title": false,
   "title_cell": "Table of Contents",
   "title_sidebar": "Contents",
   "toc_cell": false,
   "toc_position": {},
   "toc_section_display": true,
   "toc_window_display": false
  },
  "varInspector": {
   "cols": {
    "lenName": 16,
    "lenType": 16,
    "lenVar": 40
   },
   "kernels_config": {
    "python": {
     "delete_cmd_postfix": "",
     "delete_cmd_prefix": "del ",
     "library": "var_list.py",
     "varRefreshCmd": "print(var_dic_list())"
    },
    "r": {
     "delete_cmd_postfix": ") ",
     "delete_cmd_prefix": "rm(",
     "library": "var_list.r",
     "varRefreshCmd": "cat(var_dic_list()) "
    }
   },
   "types_to_exclude": [
    "module",
    "function",
    "builtin_function_or_method",
    "instance",
    "_Feature"
   ],
   "window_display": false
  }
 },
 "nbformat": 4,
 "nbformat_minor": 4
}
